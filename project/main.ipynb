{
 "cells": [
  {
   "cell_type": "markdown",
   "metadata": {},
   "source": [
    "# COMP9517 Project"
   ]
  },
  {
   "cell_type": "code",
   "execution_count": 11,
   "metadata": {},
   "outputs": [],
   "source": [
    "'''\n",
    "Please read the readme file first for further practice\n",
    "'''\n",
    "import cv2\n",
    "import numpy as np\n",
    "import copy\n",
    "from matplotlib import pyplot as plt\n",
    "from scipy.spatial import distance as dist\n",
    "import skimage\n",
    "from skimage import morphology\n",
    "from skimage import measure\n",
    "import IO_IMAGE\n",
    "import preprocessing\n"
   ]
  },
  {
   "cell_type": "code",
   "execution_count": 12,
   "metadata": {},
   "outputs": [],
   "source": [
    "# draw contours and record properties\n",
    "def draw_contour(bg,label):\n",
    "    bg = skimage.color.gray2rgb(bg).copy()\n",
    "    props = measure.regionprops(label)\n",
    "    # print the num of cell on the top left\n",
    "    cv2.putText(bg, f'TOTAL CELL NUM : {len(props)}',(1, 13), cv2.FONT_HERSHEY_SIMPLEX, 0.4, (0, 255, 0), 1)\n",
    "    for prop in props:\n",
    "        cv2.rectangle(bg,prop.bbox[:2][::-1],prop.bbox[2:4][::-1],(0,250,0),2)\n",
    "    return bg\n",
    "\n",
    "# calulating the overlapping area for bounding boxes\n",
    "def calc_area(rect1, rect2):\n",
    "    xl1, yb1, xr1, yt1 = rect1\n",
    "    xl2, yb2, xr2, yt2 = rect2\n",
    "    xmin = max(xl1, xl2)\n",
    "    ymin = max(yb1, yb2)\n",
    "    xmax = min(xr1, xr2)\n",
    "    ymax = min(yt1, yt2)\n",
    "    width = xmax - xmin\n",
    "    height = ymax - ymin\n",
    "    if width <= 0 or height <= 0:\n",
    "        return 0\n",
    "    cross_square = width * height\n",
    "    return cross_square\n",
    "\n",
    "# relabel the overlapped area\n",
    "def self_check(label):\n",
    "    pass\n",
    "    regions =  measure.regionprops(label)\n",
    "    result=np.zeros((len(regions),len(regions)))\n",
    "    for m in range(len(regions)):\n",
    "        for n in range(len(regions)):\n",
    "            if m == n:\n",
    "                continue\n",
    "            bbox1 = regions[m].bbox\n",
    "            bbox2 = regions[n].bbox\n",
    "            co_area = calc_area(bbox1,bbox2)\n",
    "            label1 = regions[m].label\n",
    "            label2 = regions[n].label\n",
    "            if label1 == label2 or co_area == 0:\n",
    "                continue\n",
    "            smaller = regions[m] if regions[m].bbox_area <= regions[n].bbox_area else regions[n]\n",
    "            bigger = regions[n] if regions[m].bbox_area <= regions[n].bbox_area else regions[m]\n",
    "            overlap_rate = co_area/smaller.bbox_area\n",
    "            if overlap_rate > 0.4:\n",
    "#                 print(smaller.label,bigger.label)\n",
    "                label[np.where(label==smaller.label)] = bigger.label\n"
   ]
  },
  {
   "cell_type": "code",
   "execution_count": 13,
   "metadata": {},
   "outputs": [],
   "source": [
    "class IMAGE():\n",
    "    def __init__(self,index,regionprops):\n",
    "        self.index = index\n",
    "        self.collection = {}\n",
    "        self.regionprop = regionprops\n",
    "        self.count = 0\n",
    "        self.dividing = 0\n",
    "        \n",
    "    def register(self,cell):\n",
    "        self.collection[cell.id]=cell\n",
    "        self.count = len(self.collection)\n",
    "        \n",
    "    def find_dividing(self,dividing):\n",
    "        self.dividing = int(dividing)\n",
    "\n",
    "\n",
    "class CELL():\n",
    "    def __init__(self,id,prop):\n",
    "        self.id = id\n",
    "        self.prop = prop\n",
    "        self.centroid = prop.centroid\n",
    "        self.pre_id = -1\n",
    "        self.speed = 0\n",
    "        self.tdist = 0\n",
    "        self.ndist = 0\n",
    "        self.ratio = 0\n",
    "        \n",
    "    def update(self,pre_id):\n",
    "        self.pre_id = pre_id\n",
    "    \n",
    "    def calulate(self,speed,tdist,ndist,ratio):\n",
    "        self.speed = round(speed,2)\n",
    "        self.tdist = round(tdist,2)\n",
    "        self.ndist = round(ndist,2)\n",
    "        self.ratio = round(ratio,2)\n",
    "        \n",
    "\n",
    "def register_image(labeled_img,seq):\n",
    "    regionprops = measure.regionprops(labeled_img)\n",
    "    output=IMAGE(seq,regionprops)\n",
    "    num_cells = len(regionprops)\n",
    "    for i in range(num_cells):\n",
    "        prop = regionprops[i]\n",
    "        cell = CELL(i,prop)\n",
    "        output.register(cell)\n",
    "    return output\n",
    "\n",
    "# A=IMAGE(0)\n",
    "# a=CELL(1,region1[0])\n",
    "# b=CELL(2,region1[2])\n",
    "# A.register(a)\n",
    "# A.register(b)\n",
    "# A.collection[1].prop"
   ]
  },
  {
   "cell_type": "code",
   "execution_count": 14,
   "metadata": {},
   "outputs": [],
   "source": [
    "def eu_distance(x,y):\n",
    "    return np.sqrt(np.sum(np.square(np.array(x)-np.array(y))))\n",
    "\n",
    "def product_overlaparea(previous,current):\n",
    "    result=np.zeros((len(previous),len(current)))\n",
    "    for m in range(len(previous)):\n",
    "        for n in range(len(current)):\n",
    "            co_area = len(np.intersect1d(previous[m].coords,current[n].coords))\n",
    "            pre_area = previous[m].area\n",
    "            cur_area = current[n].area\n",
    "            result[m,n] = 1- co_area*co_area/pre_area/cur_area\n",
    "    return np.array(result).reshape(len(previous),len(current))\n",
    "\n",
    "def mapping(attr,iterable):\n",
    "    return list(map(lambda x: getattr(x, attr) ,iterable))\n",
    "\n",
    "def get_matching_list(i,flag_dist):      # flag_dist is for choosing the alternative in distance matching \n",
    "    pre_region = archive[i-1].regionprop\n",
    "    cur_region = archive[i].regionprop\n",
    "    pre_center1ist = mapping('centroid',pre_region)                 # list of coordinate pairs\n",
    "    cur_center1ist = mapping('centroid',cur_region)\n",
    "    \n",
    "    # if sum(pre_center1ist) == 0 or  sum(cur_center1ist) == 0:\n",
    "        # return np.zeros(len(cur_region))\n",
    "    \n",
    "    # distance of centroid      np.mean(np.min(d,axis=1)) = 7.28\n",
    "#     print(len(pre_center1ist),len(cur_center1ist))\n",
    "    euclidian_distance = dist.cdist(pre_center1ist,cur_center1ist)      \n",
    "    \n",
    "    # the degree of overlap\n",
    "    overlapping_area = product_overlaparea(pre_region,cur_region)\n",
    "    \n",
    "    # for possible division list\n",
    "    # np.argpartition(euclidian_distance, 3,axis=0)[:3]\n",
    "    \n",
    "    E1_1 = np.argpartition(euclidian_distance, 2,axis=0)[:2][0]\n",
    "    E1_2 = np.argpartition(euclidian_distance, 2,axis=0)[:2][1]\n",
    "    E2=np.argmin(overlapping_area,axis=0)\n",
    "\n",
    "    matched_list = []\n",
    "    for i in range(len(cur_region)):\n",
    "        if E1_1[i] == E2[i]:\n",
    "            matched_list.append(E1_1[i])\n",
    "        elif E1_2[i] == E2[i]:\n",
    "            matched_list.append(E1_2[i])\n",
    "        elif euclidian_distance[E1_1[i],i] < flag_dist:\n",
    "            matched_list.append(E1_1[i])\n",
    "        else:\n",
    "            matched_list.append(-1) \n",
    "    matched_list=np.array(matched_list)\n",
    "    return matched_list"
   ]
  },
  {
   "cell_type": "code",
   "execution_count": 15,
   "metadata": {},
   "outputs": [],
   "source": [
    "# initialize the path\n",
    "path='D:\\\\UNSW\\\\2020T2\\\\9517\\\\project\\\\'\n",
    "dataset_name_map ={1:path + 'DIC-C2DH-HeLa',2:path + 'Fluo-N2DL-HeLa',3:path + 'PhC-C2DL-PSC'}\n",
    "seq_name_map ={1:'Sequence 1',2:'Sequence 2',3:'Sequence 3',4:'Sequence 4'}\n",
    "\n",
    "# parameter\n",
    "DATASET= 3\n",
    "SEQ = 1\n",
    "FLAG_DIST = 80 if DATASET ==1 else 10\n",
    "STOPLINE = 40\n",
    "\n",
    "# read the whole dataset\n",
    "dataset = IO_IMAGE.read_img(dataset_name_map[DATASET])   # choose the target dataset\n",
    "sequence = dataset[seq_name_map[SEQ]]                # choose the sequence\n",
    "num_img = len(sequence)\n",
    "\n",
    "\n",
    "# customized folder name\n",
    "folder_name = seq_name_map[SEQ].lower() + 'bbox'       \n",
    "trajectory_folder = seq_name_map[SEQ].lower()+'trajectory'\n",
    "\n",
    "# initialize\n",
    "seq_processed_img=[]                               # processed img\n",
    "seq_labeled_img=[]                                 # labeled img\n",
    "seq_drawed=[]                                      # img with bounding box\n",
    "archive = []                                       # for image class\n",
    "final=[]                                           # img in the final\n",
    "\n",
    "# main program\n",
    "for i in range(num_img):\n",
    "    if i == STOPLINE:\n",
    "        break\n",
    "    raw_img = sequence[i]\n",
    "    if DATASET==2 :\n",
    "        bg,processed_img = preprocessing.preprocess_set2(raw_img)    # bg is background image for drawing \n",
    "        labeled_img = preprocessing.watershed_algorithm(processed_img) # labeled_img is for registration\n",
    "        self_check(labeled_img)                                        # modify labels\n",
    "    elif DATASET==1:\n",
    "        bg,labeled_img = preprocessing.preprocess_set1(raw_img) \n",
    "        processed_img = labeled_img\n",
    "    elif DATASET==3:\n",
    "        bg,processed_img = preprocessing.preprocess_set3(raw_img)    # bg is background image for drawing \n",
    "        labeled_img = preprocessing.watershed_algorithm(processed_img) # labeled_img is for registration\n",
    "        self_check(labeled_img)                                        # modify labels\n",
    "\n",
    "    seq_processed_img.append(processed_img)\n",
    "    cur_img = register_image(labeled_img,i)                        # register the image to class  \n",
    "    archive.append(cur_img)\n",
    "    rct_img = draw_contour(bg,labeled_img)                         # draw bounding box  \n",
    "    seq_drawed.append(rct_img)\n",
    "    seq_labeled_img.append(labeled_img)\n",
    "    IO_IMAGE.write_img(rct_img, folder_name,i)                     # write image into file  \n",
    "    # -------------------------------------------\n",
    "    if i != 0:                                                     # record corresponding past cell\n",
    "        num_cells = cur_img.count                                  # the number of cells in current img\n",
    "        matched_list= get_matching_list(i,FLAG_DIST)                         # list size: current img's num of cells\n",
    "        for k in range(num_cells):\n",
    "            if matched_list[k] == -1:\n",
    "                continue\n",
    "            else:\n",
    "                pre_cell_index = matched_list[k]\n",
    "                cur_cell = cur_img.collection[k]\n",
    "                cur_cell.update(pre_cell_index)\n",
    "    # -------------------------------------------\n",
    "        dividing_list=list(matched_list.copy())                    # for finding the dividing cell( on the previous image)\n",
    "        for each in np.unique(matched_list):\n",
    "            dividing_list.remove(each)\n",
    "        dividing_list=np.unique(dividing_list)\n",
    "        if -1 in dividing_list:\n",
    "            dividing_list=list(dividing_list)\n",
    "            dividing_list.remove(-1)\n",
    "        pre_img = archive[i-1]\n",
    "        pre_img.find_dividing(len(dividing_list))\n",
    "        pre_bg = seq_drawed[i-1]\n",
    "        for i in range(pre_img.count):\n",
    "            prop = pre_img.regionprop[i]\n",
    "            if i in dividing_list:\n",
    "                cv2.rectangle(pre_bg,prop.bbox[:2][::-1],prop.bbox[2:4][::-1],(255,0,0),2)"
   ]
  },
  {
   "cell_type": "code",
   "execution_count": 16,
   "metadata": {},
   "outputs": [],
   "source": [
    "\n",
    "# draw lines\n",
    "for i in range(num_img):\n",
    "    if i == STOPLINE:\n",
    "        break\n",
    "    bg = seq_drawed[i].copy()\n",
    "    cur_img = archive[i]\n",
    "    num_cells = cur_img.count\n",
    "    for k in range(num_cells):\n",
    "        cur_cell = cur_img.collection[k]\n",
    "        cur_center = cur_cell.centroid\n",
    "        pre_cell_index = cur_cell.pre_id\n",
    "        \n",
    "        offset = 1\n",
    "        p_list = [cur_center]\n",
    "        while pre_cell_index != -1 and offset <= i:\n",
    "            pre_img = archive[i-offset]\n",
    "            pre_cell = pre_img.collection[pre_cell_index]\n",
    "            pre_center = pre_cell.centroid\n",
    "            p_list.append(pre_center)\n",
    "            pre_cell_index = pre_cell.pre_id\n",
    "            offset+=1\n",
    "        for m in range(len(p_list)-1):\n",
    "            cv2.line(bg, tuple(map(int,p_list[m]))[::-1],tuple(map(int,p_list[m + 1]))[::-1], (0, 255, 150), 2)\n",
    "            \n",
    "        # compute the velocity    \n",
    "        if len(p_list) > 1:\n",
    "#             print(f'img {i} cell{k}')\n",
    "            tdist = 0\n",
    "            for j in range(len(p_list)-1):\n",
    "                tempdist = eu_distance(p_list[j],p_list[j+1])\n",
    "                tdist += tempdist\n",
    "            speed = eu_distance(p_list[0],p_list[1])\n",
    "            ndist = eu_distance(p_list[0],p_list[-1])\n",
    "            ratio = round(tdist/ndist,2) if ndist !=0 else 0\n",
    "            cur_img.collection[k].calulate(speed,tdist,ndist,ratio)\n",
    "            \n",
    "    bg=cv2.putText(bg, f'TOTAL DIVIDING NUM : {cur_img.dividing}',(1, 26), cv2.FONT_HERSHEY_SIMPLEX, 0.4, (0, 255, 0), 1)\n",
    "    final.append(bg)\n",
    "    IO_IMAGE.write_img(bg, trajectory_folder,i)"
   ]
  },
  {
   "cell_type": "code",
   "execution_count": 9,
   "metadata": {},
   "outputs": [
    {
     "data": {
      "text/plain": [
       "<matplotlib.image.AxesImage at 0x267ea11ba48>"
      ]
     },
     "execution_count": 9,
     "metadata": {},
     "output_type": "execute_result"
    },
    {
     "data": {
      "image/png": "[encoded data removed]",
      "text/plain": [
       "<Figure size 432x288 with 1 Axes>"
      ]
     },
     "metadata": {
      "needs_background": "light"
     },
     "output_type": "display_data"
    }
   ],
   "source": [
    "plt.imshow(seq_processed_img[0],'gray')"
   ]
  },
  {
   "cell_type": "code",
   "execution_count": null,
   "metadata": {},
   "outputs": [],
   "source": [
    "########### the followings are functional  ###################"
   ]
  },
  {
   "cell_type": "code",
   "execution_count": null,
   "metadata": {},
   "outputs": [],
   "source": []
  },
  {
   "cell_type": "code",
   "execution_count": null,
   "metadata": {},
   "outputs": [],
   "source": []
  },
  {
   "cell_type": "code",
   "execution_count": null,
   "metadata": {
    "scrolled": true
   },
   "outputs": [],
   "source": [
    "# UI \n",
    "\n",
    "def mouse(event, x, y, flags, param):\n",
    "    regionprop = param.regionprop\n",
    "    center1ist = mapping('centroid',regionprop)\n",
    "    if event == cv2.EVENT_LBUTTONDOWN:\n",
    "        distance1ist = [ eu_distance(i,(y,x)) for i in center1ist]\n",
    "        min_dis_index = np.argmin(distance1ist,axis=0) \n",
    "        \n",
    "#         print(min_dis_index,center1ist[0],len(center1ist))\n",
    "        \n",
    "        if distance1ist[min_dis_index] < 10:\n",
    "#             print(min_dis_index,end='')\n",
    "            speed = 'speed:'+str(param.collection[min_dis_index].speed)\n",
    "            tdist = 'tdist:'+str(param.collection[min_dis_index].tdist)\n",
    "            ndist = 'ndist:'+str(param.collection[min_dis_index].ndist)\n",
    "            ratio = 'ratio:'+str(param.collection[min_dis_index].ratio)\n",
    "            string1 = ','.join((speed,tdist))\n",
    "            string2 = ','.join((ndist,ratio))\n",
    "            cv2.putText(img, string1, (x, y), cv2.FONT_HERSHEY_SIMPLEX,0.5, (238,229, 0), thickness = 1)\n",
    "            cv2.putText(img, string2, (x, y-13), cv2.FONT_HERSHEY_SIMPLEX,0.5, (238 ,229 ,0), thickness = 1)\n",
    "            cv2.imshow(\"image\", img)\n",
    "            \n",
    "for i in range(STOPLINE):\n",
    "    target= i\n",
    "    img = final[target].copy()\n",
    "    param = archive[target]\n",
    "    cv2.imshow(\"image\", img)\n",
    "    cv2.setMouseCallback(\"image\", mouse,param)\n",
    "    cv2.waitKey(4000)\n",
    "cv2.destroyAllWindows()"
   ]
  },
  {
   "cell_type": "code",
   "execution_count": null,
   "metadata": {},
   "outputs": [],
   "source": []
  },
  {
   "cell_type": "code",
   "execution_count": null,
   "metadata": {},
   "outputs": [],
   "source": [
    "# archive[0].collection[1].prop.centroid"
   ]
  },
  {
   "cell_type": "code",
   "execution_count": null,
   "metadata": {},
   "outputs": [],
   "source": []
  },
  {
   "cell_type": "code",
   "execution_count": 8,
   "metadata": {
    "scrolled": false
   },
   "outputs": [
    {
     "data": {
      "text/plain": [
       "(<matplotlib.axes._subplots.AxesSubplot at 0x1d99a182348>,\n",
       " <matplotlib.image.AxesImage at 0x1d99a74ee88>)"
      ]
     },
     "execution_count": 8,
     "metadata": {},
     "output_type": "execute_result"
    },
    {
     "data": {
      "image/png": "[encoded data removed]",
      "text/plain": [
       "<Figure size 1440x1440 with 3 Axes>"
      ]
     },
     "metadata": {
      "needs_background": "light"
     },
     "output_type": "display_data"
    }
   ],
   "source": [
    "# show pic\n",
    "def normalize(input_img):\n",
    "    return ((input_img - input_img.min()) / (input_img.max() - input_img.min()) * 255).astype(np.uint8)\n",
    "\n",
    "i = 2\n",
    "raw = sequence[i]\n",
    "pi=seq_processed_img[i]\n",
    "res= final[i]\n",
    "fig, ax = plt.subplots(figsize=(20,20))\n",
    "plt.subplot(411),plt.imshow(normalize(raw),'gray')\n",
    "plt.subplot(412),plt.imshow(pi,'gray')\n",
    "plt.subplot(413),plt.imshow(res,'gray')"
   ]
  },
  {
   "cell_type": "code",
   "execution_count": null,
   "metadata": {},
   "outputs": [],
   "source": []
  },
  {
   "cell_type": "code",
   "execution_count": null,
   "metadata": {},
   "outputs": [],
   "source": []
  }
 ],
 "metadata": {
  "kernelspec": {
   "display_name": "Python 3",
   "language": "python",
   "name": "python3"
  },
  "language_info": {
   "codemirror_mode": {
    "name": "ipython",
    "version": 3
   },
   "file_extension": ".py",
   "mimetype": "text/x-python",
   "name": "python",
   "nbconvert_exporter": "python",
   "pygments_lexer": "ipython3",
   "version": "3.7.6"
  }
 },
 "nbformat": 4,
 "nbformat_minor": 2
}
